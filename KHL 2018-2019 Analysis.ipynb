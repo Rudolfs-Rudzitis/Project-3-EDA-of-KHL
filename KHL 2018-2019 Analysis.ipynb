{
 "cells": [
  {
   "cell_type": "markdown",
   "metadata": {},
   "source": [
    "## Introduction:\n",
    "\n",
    "The dataset I chose was 'Kontinental Hockey League player statistics'.\n",
    "\n",
    "It contains information about KHL **810 hockey players** - an international professional ice hockey league. I found this data set on Kaggle website in Data section. There are only 1 CSV files in the current version of the dataset.\n",
    "\n",
    "#### The questions I wanted to answer using this dataset:\n",
    "* What's the distribution of player's penalty time in 2018-2019 season?\n",
    "* What's the percentage of players in Forward and Defence positions?\n",
    "* What was the distribution of penalty time (low, mid, high) across all players?\n",
    "* Of the 2 positions, which position scored the most goals?\n",
    "* Who had the most assists in the League?\n",
    "* What was the TOP 5 players who scored the most goals?\n",
    "* Who had the highest average time spent on the ice per game?\n",
    "* Which of my 3 favorite KHL teams was the most powerful in a particular season?\n",
    "* Which of the players in Dynamo Riga had the most goals?\n",
    "* Which of the 'DR' player had the biggest time on ice per game?\n",
    "* Which were the most aggressive players on team (pick TOP 3)?"
   ]
  },
  {
   "cell_type": "code",
   "execution_count": 26,
   "metadata": {},
   "outputs": [],
   "source": [
    "import pandas as pd\n",
    "import numpy as np\n",
    "import matplotlib.pyplot as plt\n",
    "%matplotlib inline\n",
    "import seaborn as sns"
   ]
  },
  {
   "cell_type": "code",
   "execution_count": 8,
   "metadata": {},
   "outputs": [
    {
     "data": {
      "text/html": [
       "<div>\n",
       "<style scoped>\n",
       "    .dataframe tbody tr th:only-of-type {\n",
       "        vertical-align: middle;\n",
       "    }\n",
       "\n",
       "    .dataframe tbody tr th {\n",
       "        vertical-align: top;\n",
       "    }\n",
       "\n",
       "    .dataframe thead th {\n",
       "        text-align: right;\n",
       "    }\n",
       "</style>\n",
       "<table border=\"1\" class=\"dataframe\">\n",
       "  <thead>\n",
       "    <tr style=\"text-align: right;\">\n",
       "      <th></th>\n",
       "      <th>Unnamed: 0</th>\n",
       "      <th>player</th>\n",
       "      <th>team</th>\n",
       "      <th>games</th>\n",
       "      <th>goals</th>\n",
       "      <th>assists</th>\n",
       "      <th>points</th>\n",
       "      <th>pl_min</th>\n",
       "      <th>shoots</th>\n",
       "      <th>per_shoots</th>\n",
       "      <th>penalty_time</th>\n",
       "      <th>avr_time_on_ice</th>\n",
       "      <th>position</th>\n",
       "    </tr>\n",
       "  </thead>\n",
       "  <tbody>\n",
       "    <tr>\n",
       "      <th>0</th>\n",
       "      <td>0</td>\n",
       "      <td>Аалтонен Миро</td>\n",
       "      <td>ВИТ</td>\n",
       "      <td>61</td>\n",
       "      <td>19</td>\n",
       "      <td>23</td>\n",
       "      <td>42</td>\n",
       "      <td>9</td>\n",
       "      <td>165</td>\n",
       "      <td>11.5</td>\n",
       "      <td>20</td>\n",
       "      <td>17:39</td>\n",
       "      <td>F</td>\n",
       "    </tr>\n",
       "    <tr>\n",
       "      <th>1</th>\n",
       "      <td>1</td>\n",
       "      <td>Аверин Егор</td>\n",
       "      <td>ЛОК</td>\n",
       "      <td>57</td>\n",
       "      <td>13</td>\n",
       "      <td>14</td>\n",
       "      <td>27</td>\n",
       "      <td>15</td>\n",
       "      <td>102</td>\n",
       "      <td>12.7</td>\n",
       "      <td>10</td>\n",
       "      <td>16:18</td>\n",
       "      <td>F</td>\n",
       "    </tr>\n",
       "    <tr>\n",
       "      <th>2</th>\n",
       "      <td>2</td>\n",
       "      <td>Авцин Александр</td>\n",
       "      <td>НХК</td>\n",
       "      <td>20</td>\n",
       "      <td>1</td>\n",
       "      <td>2</td>\n",
       "      <td>3</td>\n",
       "      <td>1</td>\n",
       "      <td>24</td>\n",
       "      <td>4.2</td>\n",
       "      <td>8</td>\n",
       "      <td>11:18</td>\n",
       "      <td>F</td>\n",
       "    </tr>\n",
       "    <tr>\n",
       "      <th>3</th>\n",
       "      <td>3</td>\n",
       "      <td>Азеведо Джастин</td>\n",
       "      <td>АКБ</td>\n",
       "      <td>62</td>\n",
       "      <td>13</td>\n",
       "      <td>24</td>\n",
       "      <td>37</td>\n",
       "      <td>26</td>\n",
       "      <td>195</td>\n",
       "      <td>6.7</td>\n",
       "      <td>42</td>\n",
       "      <td>16:49</td>\n",
       "      <td>F</td>\n",
       "    </tr>\n",
       "    <tr>\n",
       "      <th>4</th>\n",
       "      <td>4</td>\n",
       "      <td>Акмальдинов Александр</td>\n",
       "      <td>СОЧ</td>\n",
       "      <td>30</td>\n",
       "      <td>1</td>\n",
       "      <td>6</td>\n",
       "      <td>7</td>\n",
       "      <td>-3</td>\n",
       "      <td>24</td>\n",
       "      <td>4.2</td>\n",
       "      <td>11</td>\n",
       "      <td>08:30</td>\n",
       "      <td>F</td>\n",
       "    </tr>\n",
       "  </tbody>\n",
       "</table>\n",
       "</div>"
      ],
      "text/plain": [
       "   Unnamed: 0                 player team  games  goals  assists  points  \\\n",
       "0           0          Аалтонен Миро  ВИТ     61     19       23      42   \n",
       "1           1            Аверин Егор  ЛОК     57     13       14      27   \n",
       "2           2        Авцин Александр  НХК     20      1        2       3   \n",
       "3           3        Азеведо Джастин  АКБ     62     13       24      37   \n",
       "4           4  Акмальдинов Александр  СОЧ     30      1        6       7   \n",
       "\n",
       "   pl_min  shoots  per_shoots  penalty_time avr_time_on_ice position  \n",
       "0       9     165        11.5            20           17:39        F  \n",
       "1      15     102        12.7            10           16:18        F  \n",
       "2       1      24         4.2             8           11:18        F  \n",
       "3      26     195         6.7            42           16:49        F  \n",
       "4      -3      24         4.2            11           08:30        F  "
      ]
     },
     "execution_count": 8,
     "metadata": {},
     "output_type": "execute_result"
    }
   ],
   "source": [
    "khl = pd.read_csv('khl_2018-2019.csv')\n",
    "khl.head(5)"
   ]
  },
  {
   "cell_type": "code",
   "execution_count": 9,
   "metadata": {},
   "outputs": [
    {
     "data": {
      "text/plain": [
       "(811, 13)"
      ]
     },
     "execution_count": 9,
     "metadata": {},
     "output_type": "execute_result"
    }
   ],
   "source": [
    "# check the rows and columns of this dataset\n",
    "khl.shape"
   ]
  },
  {
   "cell_type": "markdown",
   "metadata": {},
   "source": [
    "###### Whats the distribution of player's penalty time in 2018-2019 season?"
   ]
  },
  {
   "cell_type": "code",
   "execution_count": 265,
   "metadata": {},
   "outputs": [
    {
     "data": {
      "image/png": "[encoded data removed]",
      "text/plain": [
       "<Figure size 640x480 with 1 Axes>"
      ]
     },
     "metadata": {},
     "output_type": "display_data"
    }
   ],
   "source": [
    "bins = [10,20,30,40,50,60,70,80,90,100,110,120]\n",
    "\n",
    "plt.hist(khl.penalty_time, bins=bins, color='#abcdef')\n",
    "\n",
    "plt.ylabel('Number of Players')\n",
    "plt.xlabel('Penalty time in minutes')\n",
    "plt.title('Distribution of Player Penalty time in KHL 2018/2019')\n",
    "plt.xticks(bins)\n",
    "\n",
    "plt.show()"
   ]
  },
  {
   "cell_type": "markdown",
   "metadata": {},
   "source": [
    "A histogram above shows that in 2018-2019 season most of the KHL players penalty time did not exceed **30** minutes."
   ]
  },
  {
   "cell_type": "markdown",
   "metadata": {},
   "source": [
    "###### What's the percentage of players in Forward and Defence positions?\n",
    "(dateset didn't contain info about goaltenders, so wee exclude them this time)"
   ]
  },
  {
   "cell_type": "code",
   "execution_count": 271,
   "metadata": {},
   "outputs": [
    {
     "data": {
      "image/png": "[encoded data removed]",
      "text/plain": [
       "<Figure size 640x480 with 1 Axes>"
      ]
     },
     "metadata": {},
     "output_type": "display_data"
    }
   ],
   "source": [
    "# Count players in each of the position.\n",
    "forward = khl.loc[khl['position'] == 'F'].count()[0]\n",
    "defence = khl.loc[khl['position'] == 'D'].count()[0]\n",
    "\n",
    "labels = ['Forward', 'Defence']\n",
    "colors = ['lightgreen', 'grey']\n",
    "\n",
    "plt.pie([forward, defence], labels = labels, colors=colors, shadow=True, autopct='%.2f %%', pctdistance=0.5)\n",
    "\n",
    "# Draw a white circle inside the PieChart to make it look like a donat.\n",
    "centre_circle = plt.Circle((0,0),0.70,fc='white')\n",
    "fig = plt.gcf()\n",
    "fig.gca().add_artist(centre_circle)\n",
    "\n",
    "\n",
    "plt.title('Distribution of KHL Players in Forward & Defence positions')\n",
    "plt.show()"
   ]
  },
  {
   "cell_type": "markdown",
   "metadata": {},
   "source": [
    "There were almost 2 Forward players **(64,24%)** for every Defence player **(35,76%).**"
   ]
  },
  {
   "cell_type": "markdown",
   "metadata": {},
   "source": [
    "###### What was the distribution of penalty time (low, mid, high) across all players? "
   ]
  },
  {
   "cell_type": "code",
   "execution_count": 270,
   "metadata": {},
   "outputs": [
    {
     "data": {
      "image/png": "[encoded data removed]",
      "text/plain": [
       "<Figure size 640x480 with 1 Axes>"
      ]
     },
     "metadata": {},
     "output_type": "display_data"
    }
   ],
   "source": [
    "low = khl.loc[khl.penalty_time < 20].count()[0]\n",
    "mid = khl.loc[(khl.penalty_time >= 20) & (khl.penalty_time < 45)].count()[0]\n",
    "high = khl.loc[(khl.penalty_time >= 45) & (khl.penalty_time > 45)].count()[0]\n",
    "\n",
    "penalty = [low, mid, high]\n",
    "explode = [0,.1,.2]\n",
    "colors = ['khaki', 'salmon', 'lightblue']\n",
    "labels = ['Low penalty time (under 20 min)', 'Mid penalty time (20-45 min)', 'High penalty time (over 45 min)']\n",
    "\n",
    "plt.title('Penalty time Distribution of KHL Players')\n",
    "\n",
    "plt.pie(penalty, labels=labels, colors=colors, autopct='%.2f %%', pctdistance=0.8, explode=explode)\n",
    "plt.show()"
   ]
  },
  {
   "cell_type": "markdown",
   "metadata": {},
   "source": [
    "Almost 2/3 **(63,15%)** of all players had low penaly time, while almost a third **(29,28%)** of players had mid penalty time and only a fraction of all players **(7,57%)** managed to earned high penalty time."
   ]
  },
  {
   "cell_type": "markdown",
   "metadata": {},
   "source": [
    "###### Of the 2 positions, which position scored the most goals?"
   ]
  },
  {
   "cell_type": "code",
   "execution_count": 35,
   "metadata": {},
   "outputs": [
    {
     "data": {
      "text/html": [
       "<div>\n",
       "<style scoped>\n",
       "    .dataframe tbody tr th:only-of-type {\n",
       "        vertical-align: middle;\n",
       "    }\n",
       "\n",
       "    .dataframe tbody tr th {\n",
       "        vertical-align: top;\n",
       "    }\n",
       "\n",
       "    .dataframe thead th {\n",
       "        text-align: right;\n",
       "    }\n",
       "</style>\n",
       "<table border=\"1\" class=\"dataframe\">\n",
       "  <thead>\n",
       "    <tr style=\"text-align: right;\">\n",
       "      <th></th>\n",
       "      <th>count</th>\n",
       "      <th>mean</th>\n",
       "      <th>std</th>\n",
       "      <th>min</th>\n",
       "      <th>25%</th>\n",
       "      <th>50%</th>\n",
       "      <th>75%</th>\n",
       "      <th>max</th>\n",
       "    </tr>\n",
       "    <tr>\n",
       "      <th>position</th>\n",
       "      <th></th>\n",
       "      <th></th>\n",
       "      <th></th>\n",
       "      <th></th>\n",
       "      <th></th>\n",
       "      <th></th>\n",
       "      <th></th>\n",
       "      <th></th>\n",
       "    </tr>\n",
       "  </thead>\n",
       "  <tbody>\n",
       "    <tr>\n",
       "      <th>D</th>\n",
       "      <td>290.0</td>\n",
       "      <td>2.258621</td>\n",
       "      <td>2.823286</td>\n",
       "      <td>0.0</td>\n",
       "      <td>0.0</td>\n",
       "      <td>1.0</td>\n",
       "      <td>3.0</td>\n",
       "      <td>16.0</td>\n",
       "    </tr>\n",
       "    <tr>\n",
       "      <th>F</th>\n",
       "      <td>521.0</td>\n",
       "      <td>6.001919</td>\n",
       "      <td>6.153954</td>\n",
       "      <td>0.0</td>\n",
       "      <td>1.0</td>\n",
       "      <td>4.0</td>\n",
       "      <td>9.0</td>\n",
       "      <td>29.0</td>\n",
       "    </tr>\n",
       "  </tbody>\n",
       "</table>\n",
       "</div>"
      ],
      "text/plain": [
       "          count      mean       std  min  25%  50%  75%   max\n",
       "position                                                     \n",
       "D         290.0  2.258621  2.823286  0.0  0.0  1.0  3.0  16.0\n",
       "F         521.0  6.001919  6.153954  0.0  1.0  4.0  9.0  29.0"
      ]
     },
     "execution_count": 35,
     "metadata": {},
     "output_type": "execute_result"
    }
   ],
   "source": [
    "# Let's group players by positions and see how much goals was scored by each of position.\n",
    "khl.groupby('position').goals.describe()"
   ]
  },
  {
   "cell_type": "markdown",
   "metadata": {},
   "source": [
    "From the table above we see that most goals was scored by players in Forward position **(521)** while players in Defence position scored almost half of the goals **(290)**."
   ]
  },
  {
   "cell_type": "markdown",
   "metadata": {},
   "source": [
    "###### Who had the most assists in the League?"
   ]
  },
  {
   "cell_type": "code",
   "execution_count": 272,
   "metadata": {},
   "outputs": [
    {
     "data": {
      "text/html": [
       "<div>\n",
       "<style scoped>\n",
       "    .dataframe tbody tr th:only-of-type {\n",
       "        vertical-align: middle;\n",
       "    }\n",
       "\n",
       "    .dataframe tbody tr th {\n",
       "        vertical-align: top;\n",
       "    }\n",
       "\n",
       "    .dataframe thead th {\n",
       "        text-align: right;\n",
       "    }\n",
       "</style>\n",
       "<table border=\"1\" class=\"dataframe\">\n",
       "  <thead>\n",
       "    <tr style=\"text-align: right;\">\n",
       "      <th></th>\n",
       "      <th>Unnamed: 0</th>\n",
       "      <th>player</th>\n",
       "      <th>team</th>\n",
       "      <th>games</th>\n",
       "      <th>goals</th>\n",
       "      <th>assists</th>\n",
       "      <th>points</th>\n",
       "      <th>pl_min</th>\n",
       "      <th>shoots</th>\n",
       "      <th>per_shoots</th>\n",
       "      <th>penalty_time</th>\n",
       "      <th>avr_time_on_ice</th>\n",
       "      <th>position</th>\n",
       "    </tr>\n",
       "  </thead>\n",
       "  <tbody>\n",
       "    <tr>\n",
       "      <th>107</th>\n",
       "      <td>107</td>\n",
       "      <td>Гусев Никита</td>\n",
       "      <td>СКА</td>\n",
       "      <td>62</td>\n",
       "      <td>17</td>\n",
       "      <td>64</td>\n",
       "      <td>81</td>\n",
       "      <td>39</td>\n",
       "      <td>194</td>\n",
       "      <td>8.8</td>\n",
       "      <td>10</td>\n",
       "      <td>15:52</td>\n",
       "      <td>F</td>\n",
       "    </tr>\n",
       "    <tr>\n",
       "      <th>494</th>\n",
       "      <td>494</td>\n",
       "      <td>Шипачёв Вадим</td>\n",
       "      <td>ДИН</td>\n",
       "      <td>61</td>\n",
       "      <td>20</td>\n",
       "      <td>48</td>\n",
       "      <td>67</td>\n",
       "      <td>22</td>\n",
       "      <td>112</td>\n",
       "      <td>17.9</td>\n",
       "      <td>30</td>\n",
       "      <td>20:56</td>\n",
       "      <td>F</td>\n",
       "    </tr>\n",
       "  </tbody>\n",
       "</table>\n",
       "</div>"
      ],
      "text/plain": [
       "     Unnamed: 0         player team  games  goals  assists  points  pl_min  \\\n",
       "107         107   Гусев Никита  СКА     62     17       64      81      39   \n",
       "494         494  Шипачёв Вадим  ДИН     61     20       48      67      22   \n",
       "\n",
       "     shoots  per_shoots  penalty_time avr_time_on_ice position  \n",
       "107     194         8.8            10           15:52        F  \n",
       "494     112        17.9            30           20:56        F  "
      ]
     },
     "execution_count": 272,
     "metadata": {},
     "output_type": "execute_result"
    }
   ],
   "source": [
    "khl.sort_values(by='assists', ascending=False).head(2)"
   ]
  },
  {
   "cell_type": "markdown",
   "metadata": {},
   "source": [
    "**Nikita Gusev** from 'SKA' had the most assists in the 2019-2019 season."
   ]
  },
  {
   "cell_type": "markdown",
   "metadata": {},
   "source": [
    "###### What was the TOP 5 players with the most goals?"
   ]
  },
  {
   "cell_type": "code",
   "execution_count": 55,
   "metadata": {},
   "outputs": [
    {
     "data": {
      "text/html": [
       "<div>\n",
       "<style scoped>\n",
       "    .dataframe tbody tr th:only-of-type {\n",
       "        vertical-align: middle;\n",
       "    }\n",
       "\n",
       "    .dataframe tbody tr th {\n",
       "        vertical-align: top;\n",
       "    }\n",
       "\n",
       "    .dataframe thead th {\n",
       "        text-align: right;\n",
       "    }\n",
       "</style>\n",
       "<table border=\"1\" class=\"dataframe\">\n",
       "  <thead>\n",
       "    <tr style=\"text-align: right;\">\n",
       "      <th></th>\n",
       "      <th>Unnamed: 0</th>\n",
       "      <th>player</th>\n",
       "      <th>team</th>\n",
       "      <th>games</th>\n",
       "      <th>goals</th>\n",
       "      <th>assists</th>\n",
       "      <th>points</th>\n",
       "      <th>pl_min</th>\n",
       "      <th>shoots</th>\n",
       "      <th>per_shoots</th>\n",
       "      <th>penalty_time</th>\n",
       "      <th>avr_time_on_ice</th>\n",
       "      <th>position</th>\n",
       "    </tr>\n",
       "  </thead>\n",
       "  <tbody>\n",
       "    <tr>\n",
       "      <th>169</th>\n",
       "      <td>169</td>\n",
       "      <td>Капризов Кирилл</td>\n",
       "      <td>ЦСК</td>\n",
       "      <td>57</td>\n",
       "      <td>29</td>\n",
       "      <td>20</td>\n",
       "      <td>49</td>\n",
       "      <td>34</td>\n",
       "      <td>160</td>\n",
       "      <td>18.1</td>\n",
       "      <td>16</td>\n",
       "      <td>17:15</td>\n",
       "      <td>F</td>\n",
       "    </tr>\n",
       "    <tr>\n",
       "      <th>123</th>\n",
       "      <td>123</td>\n",
       "      <td>Доус Найджел</td>\n",
       "      <td>АВТ</td>\n",
       "      <td>60</td>\n",
       "      <td>28</td>\n",
       "      <td>41</td>\n",
       "      <td>69</td>\n",
       "      <td>18</td>\n",
       "      <td>193</td>\n",
       "      <td>14.5</td>\n",
       "      <td>12</td>\n",
       "      <td>18:09</td>\n",
       "      <td>F</td>\n",
       "    </tr>\n",
       "    <tr>\n",
       "      <th>388</th>\n",
       "      <td>388</td>\n",
       "      <td>Секстон Дэн</td>\n",
       "      <td>АВТ</td>\n",
       "      <td>61</td>\n",
       "      <td>25</td>\n",
       "      <td>27</td>\n",
       "      <td>52</td>\n",
       "      <td>22</td>\n",
       "      <td>186</td>\n",
       "      <td>13.4</td>\n",
       "      <td>6</td>\n",
       "      <td>16:28</td>\n",
       "      <td>F</td>\n",
       "    </tr>\n",
       "    <tr>\n",
       "      <th>160</th>\n",
       "      <td>160</td>\n",
       "      <td>Кагарлицкий Дмитрий</td>\n",
       "      <td>ДИН</td>\n",
       "      <td>61</td>\n",
       "      <td>24</td>\n",
       "      <td>37</td>\n",
       "      <td>59</td>\n",
       "      <td>21</td>\n",
       "      <td>188</td>\n",
       "      <td>12.8</td>\n",
       "      <td>40</td>\n",
       "      <td>19:41</td>\n",
       "      <td>F</td>\n",
       "    </tr>\n",
       "    <tr>\n",
       "      <th>67</th>\n",
       "      <td>67</td>\n",
       "      <td>Виделль Линус</td>\n",
       "      <td>ДРГ</td>\n",
       "      <td>49</td>\n",
       "      <td>24</td>\n",
       "      <td>24</td>\n",
       "      <td>48</td>\n",
       "      <td>7</td>\n",
       "      <td>151</td>\n",
       "      <td>15.9</td>\n",
       "      <td>14</td>\n",
       "      <td>18:24</td>\n",
       "      <td>F</td>\n",
       "    </tr>\n",
       "  </tbody>\n",
       "</table>\n",
       "</div>"
      ],
      "text/plain": [
       "     Unnamed: 0               player team  games  goals  assists  points  \\\n",
       "169         169      Капризов Кирилл  ЦСК     57     29       20      49   \n",
       "123         123         Доус Найджел  АВТ     60     28       41      69   \n",
       "388         388          Секстон Дэн  АВТ     61     25       27      52   \n",
       "160         160  Кагарлицкий Дмитрий  ДИН     61     24       37      59   \n",
       "67           67        Виделль Линус  ДРГ     49     24       24      48   \n",
       "\n",
       "     pl_min  shoots  per_shoots  penalty_time avr_time_on_ice position  \n",
       "169      34     160        18.1            16           17:15        F  \n",
       "123      18     193        14.5            12           18:09        F  \n",
       "388      22     186        13.4             6           16:28        F  \n",
       "160      21     188        12.8            40           19:41        F  \n",
       "67        7     151        15.9            14           18:24        F  "
      ]
     },
     "execution_count": 55,
     "metadata": {},
     "output_type": "execute_result"
    }
   ],
   "source": [
    "khl.sort_values(by='goals', ascending=False).head(5)"
   ]
  },
  {
   "cell_type": "markdown",
   "metadata": {},
   "source": [
    "The most goals in the season had Kirill Kaprizov (Кирилл Капризов) **(57)**, followed by Nigel Dawes (Найджел Доус) **(28)**, Dan Sexton (Дэн Секстон) **(25)**, Dmitri Kagarlitsky (Дмитрий Кагарлицкий) **(24)** and Linus Videll (Линус Виделль) **(24).**"
   ]
  },
  {
   "cell_type": "markdown",
   "metadata": {},
   "source": [
    "###### Who had the highest average time spent on the ice per game?"
   ]
  },
  {
   "cell_type": "code",
   "execution_count": 276,
   "metadata": {},
   "outputs": [
    {
     "data": {
      "text/html": [
       "<div>\n",
       "<style scoped>\n",
       "    .dataframe tbody tr th:only-of-type {\n",
       "        vertical-align: middle;\n",
       "    }\n",
       "\n",
       "    .dataframe tbody tr th {\n",
       "        vertical-align: top;\n",
       "    }\n",
       "\n",
       "    .dataframe thead th {\n",
       "        text-align: right;\n",
       "    }\n",
       "</style>\n",
       "<table border=\"1\" class=\"dataframe\">\n",
       "  <thead>\n",
       "    <tr style=\"text-align: right;\">\n",
       "      <th></th>\n",
       "      <th>Unnamed: 0</th>\n",
       "      <th>player</th>\n",
       "      <th>team</th>\n",
       "      <th>games</th>\n",
       "      <th>goals</th>\n",
       "      <th>assists</th>\n",
       "      <th>points</th>\n",
       "      <th>pl_min</th>\n",
       "      <th>shoots</th>\n",
       "      <th>per_shoots</th>\n",
       "      <th>penalty_time</th>\n",
       "      <th>avr_time_on_ice</th>\n",
       "      <th>position</th>\n",
       "    </tr>\n",
       "  </thead>\n",
       "  <tbody>\n",
       "    <tr>\n",
       "      <th>601</th>\n",
       "      <td>601</td>\n",
       "      <td>Диц Даррен</td>\n",
       "      <td>БАР</td>\n",
       "      <td>62</td>\n",
       "      <td>16</td>\n",
       "      <td>37</td>\n",
       "      <td>53</td>\n",
       "      <td>30</td>\n",
       "      <td>253</td>\n",
       "      <td>6.3</td>\n",
       "      <td>59</td>\n",
       "      <td>23:45</td>\n",
       "      <td>D</td>\n",
       "    </tr>\n",
       "  </tbody>\n",
       "</table>\n",
       "</div>"
      ],
      "text/plain": [
       "     Unnamed: 0      player team  games  goals  assists  points  pl_min  \\\n",
       "601         601  Диц Даррен  БАР     62     16       37      53      30   \n",
       "\n",
       "     shoots  per_shoots  penalty_time avr_time_on_ice position  \n",
       "601     253         6.3            59           23:45        D  "
      ]
     },
     "execution_count": 276,
     "metadata": {},
     "output_type": "execute_result"
    }
   ],
   "source": [
    "khl.sort_values(by='avr_time_on_ice', ascending=False).head(1)"
   ]
  },
  {
   "cell_type": "markdown",
   "metadata": {},
   "source": [
    "The highest average time spent on ice per game was **23** minutes and **45** secods, achieved by Darren Dietz (Диц Даррен) from 'Barys Hockey Club'."
   ]
  },
  {
   "cell_type": "markdown",
   "metadata": {},
   "source": [
    "###### Which of my 3 favorite KHL teams was the most powerful in a particular season?\n",
    "Compare 3 different teams by how much points their players have earned over the course of particular season."
   ]
  },
  {
   "cell_type": "code",
   "execution_count": 261,
   "metadata": {},
   "outputs": [
    {
     "data": {
      "image/png": "[encoded data removed]",
      "text/plain": [
       "<Figure size 400x700 with 1 Axes>"
      ]
     },
     "metadata": {},
     "output_type": "display_data"
    }
   ],
   "source": [
    "plt.figure(figsize=(4,7))\n",
    "\n",
    "sibir = khl.loc[khl.team == 'СИБ']['points']\n",
    "ak_bars = khl.loc[khl.team == 'БАР']['points']\n",
    "neftihimik = khl.loc[khl.team == 'НХК']['points']\n",
    "\n",
    "labels = ['СИБ', 'БАР', 'НХК']\n",
    "\n",
    "boxes = plt.boxplot([sibir, ak_bars, neftihimik], labels=labels, patch_artist=True, medianprops={'linewidth':2})\n",
    "\n",
    "for box in boxes['boxes']:\n",
    "    # set edge color\n",
    "    box.set(color='#4245f5', linewidth=2)\n",
    "    # change fill color\n",
    "    box.set(facecolor='lightgreen')\n",
    "    \n",
    "plt.title('Professional KHL Hockey Team Comparison')\n",
    "plt.ylabel('Players Score')\n",
    "\n",
    "plt.show()"
   ]
  },
  {
   "cell_type": "markdown",
   "metadata": {},
   "source": [
    "I made a comparison between 3 teams: **HC Sibir Novosibirsk,** **HC Ak Bars**, and **HC Neftekhimik Nizhnekamsk**. They are compared by points earned by they players. What we can see in the 'Boxplot' above is that **HC Neftekhimik Nizhnekamsk** (НХК) is the weakest team in this trio, on the other hand **HC Ak Bars** (БАР) players had earned the most points, making it the most powerful team in this comparison (on paper)."
   ]
  },
  {
   "cell_type": "markdown",
   "metadata": {},
   "source": [
    "Alright. So, given the fact that I'm from **Latvia,** it's time to take a look of team from my home country - 'Dynamo Riga'. Keep in mind that since the dataset is written in russian, abbreviation of Dynamo Riga is 'ДРГ'."
   ]
  },
  {
   "cell_type": "markdown",
   "metadata": {},
   "source": [
    "##### Which of the players in Dynamo Riga had the most goals?"
   ]
  },
  {
   "cell_type": "code",
   "execution_count": 19,
   "metadata": {},
   "outputs": [
    {
     "data": {
      "text/html": [
       "<div>\n",
       "<style scoped>\n",
       "    .dataframe tbody tr th:only-of-type {\n",
       "        vertical-align: middle;\n",
       "    }\n",
       "\n",
       "    .dataframe tbody tr th {\n",
       "        vertical-align: top;\n",
       "    }\n",
       "\n",
       "    .dataframe thead th {\n",
       "        text-align: right;\n",
       "    }\n",
       "</style>\n",
       "<table border=\"1\" class=\"dataframe\">\n",
       "  <thead>\n",
       "    <tr style=\"text-align: right;\">\n",
       "      <th></th>\n",
       "      <th>Unnamed: 0</th>\n",
       "      <th>player</th>\n",
       "      <th>team</th>\n",
       "      <th>games</th>\n",
       "      <th>goals</th>\n",
       "      <th>assists</th>\n",
       "      <th>points</th>\n",
       "      <th>pl_min</th>\n",
       "      <th>shoots</th>\n",
       "      <th>per_shoots</th>\n",
       "      <th>penalty_time</th>\n",
       "      <th>avr_time_on_ice</th>\n",
       "      <th>position</th>\n",
       "    </tr>\n",
       "  </thead>\n",
       "  <tbody>\n",
       "    <tr>\n",
       "      <th>67</th>\n",
       "      <td>67</td>\n",
       "      <td>Виделль Линус</td>\n",
       "      <td>ДРГ</td>\n",
       "      <td>49</td>\n",
       "      <td>24</td>\n",
       "      <td>24</td>\n",
       "      <td>48</td>\n",
       "      <td>7</td>\n",
       "      <td>151</td>\n",
       "      <td>15.9</td>\n",
       "      <td>14</td>\n",
       "      <td>18:24</td>\n",
       "      <td>F</td>\n",
       "    </tr>\n",
       "    <tr>\n",
       "      <th>110</th>\n",
       "      <td>110</td>\n",
       "      <td>Дарзиньш Лаурис</td>\n",
       "      <td>ДРГ</td>\n",
       "      <td>62</td>\n",
       "      <td>18</td>\n",
       "      <td>26</td>\n",
       "      <td>44</td>\n",
       "      <td>2</td>\n",
       "      <td>147</td>\n",
       "      <td>12.2</td>\n",
       "      <td>32</td>\n",
       "      <td>18:29</td>\n",
       "      <td>F</td>\n",
       "    </tr>\n",
       "  </tbody>\n",
       "</table>\n",
       "</div>"
      ],
      "text/plain": [
       "     Unnamed: 0           player team  games  goals  assists  points  pl_min  \\\n",
       "67           67    Виделль Линус  ДРГ     49     24       24      48       7   \n",
       "110         110  Дарзиньш Лаурис  ДРГ     62     18       26      44       2   \n",
       "\n",
       "     shoots  per_shoots  penalty_time avr_time_on_ice position  \n",
       "67      151        15.9            14           18:24        F  \n",
       "110     147        12.2            32           18:29        F  "
      ]
     },
     "execution_count": 19,
     "metadata": {},
     "output_type": "execute_result"
    }
   ],
   "source": [
    "dynamo = khl[khl.team == 'ДРГ']\n",
    "dynamo.sort_values(by='goals', ascending=False).head(2)"
   ]
  },
  {
   "cell_type": "markdown",
   "metadata": {},
   "source": [
    "In 2018-2019 season Linus Videll (Виделль Линус) managed to score **24** goals, becoming the lead goal scorer in Dynamo Riga."
   ]
  },
  {
   "cell_type": "markdown",
   "metadata": {},
   "source": [
    "###### Which of the 'DR' player had the biggest time on ice per game?"
   ]
  },
  {
   "cell_type": "code",
   "execution_count": 20,
   "metadata": {},
   "outputs": [
    {
     "data": {
      "text/html": [
       "<div>\n",
       "<style scoped>\n",
       "    .dataframe tbody tr th:only-of-type {\n",
       "        vertical-align: middle;\n",
       "    }\n",
       "\n",
       "    .dataframe tbody tr th {\n",
       "        vertical-align: top;\n",
       "    }\n",
       "\n",
       "    .dataframe thead th {\n",
       "        text-align: right;\n",
       "    }\n",
       "</style>\n",
       "<table border=\"1\" class=\"dataframe\">\n",
       "  <thead>\n",
       "    <tr style=\"text-align: right;\">\n",
       "      <th></th>\n",
       "      <th>Unnamed: 0</th>\n",
       "      <th>player</th>\n",
       "      <th>team</th>\n",
       "      <th>games</th>\n",
       "      <th>goals</th>\n",
       "      <th>assists</th>\n",
       "      <th>points</th>\n",
       "      <th>pl_min</th>\n",
       "      <th>shoots</th>\n",
       "      <th>per_shoots</th>\n",
       "      <th>penalty_time</th>\n",
       "      <th>avr_time_on_ice</th>\n",
       "      <th>position</th>\n",
       "    </tr>\n",
       "  </thead>\n",
       "  <tbody>\n",
       "    <tr>\n",
       "      <th>537</th>\n",
       "      <td>537</td>\n",
       "      <td>Балинскис Увис</td>\n",
       "      <td>ДРГ</td>\n",
       "      <td>37</td>\n",
       "      <td>1</td>\n",
       "      <td>10</td>\n",
       "      <td>11</td>\n",
       "      <td>-7</td>\n",
       "      <td>43</td>\n",
       "      <td>2.3</td>\n",
       "      <td>16</td>\n",
       "      <td>19:51</td>\n",
       "      <td>D</td>\n",
       "    </tr>\n",
       "  </tbody>\n",
       "</table>\n",
       "</div>"
      ],
      "text/plain": [
       "     Unnamed: 0          player team  games  goals  assists  points  pl_min  \\\n",
       "537         537  Балинскис Увис  ДРГ     37      1       10      11      -7   \n",
       "\n",
       "     shoots  per_shoots  penalty_time avr_time_on_ice position  \n",
       "537      43         2.3            16           19:51        D  "
      ]
     },
     "execution_count": 20,
     "metadata": {},
     "output_type": "execute_result"
    }
   ],
   "source": [
    "dynamo.sort_values(by='avr_time_on_ice', ascending=False).head(1)"
   ]
  },
  {
   "cell_type": "markdown",
   "metadata": {},
   "source": [
    "As it turns out one of the youngest player on team - Uvis Balinskis (Балинскис Увис), managed to scrape the most minutes on ice per game (on average **19** minutes and **51** sec.)."
   ]
  },
  {
   "cell_type": "markdown",
   "metadata": {},
   "source": [
    "###### Which were the most aggressive players on team (pick TOP 3)?"
   ]
  },
  {
   "cell_type": "code",
   "execution_count": 21,
   "metadata": {},
   "outputs": [
    {
     "data": {
      "text/html": [
       "<div>\n",
       "<style scoped>\n",
       "    .dataframe tbody tr th:only-of-type {\n",
       "        vertical-align: middle;\n",
       "    }\n",
       "\n",
       "    .dataframe tbody tr th {\n",
       "        vertical-align: top;\n",
       "    }\n",
       "\n",
       "    .dataframe thead th {\n",
       "        text-align: right;\n",
       "    }\n",
       "</style>\n",
       "<table border=\"1\" class=\"dataframe\">\n",
       "  <thead>\n",
       "    <tr style=\"text-align: right;\">\n",
       "      <th></th>\n",
       "      <th>Unnamed: 0</th>\n",
       "      <th>player</th>\n",
       "      <th>team</th>\n",
       "      <th>games</th>\n",
       "      <th>goals</th>\n",
       "      <th>assists</th>\n",
       "      <th>points</th>\n",
       "      <th>pl_min</th>\n",
       "      <th>shoots</th>\n",
       "      <th>per_shoots</th>\n",
       "      <th>penalty_time</th>\n",
       "      <th>avr_time_on_ice</th>\n",
       "      <th>position</th>\n",
       "    </tr>\n",
       "  </thead>\n",
       "  <tbody>\n",
       "    <tr>\n",
       "      <th>261</th>\n",
       "      <td>261</td>\n",
       "      <td>Макмиллан Брэндон</td>\n",
       "      <td>ДРГ</td>\n",
       "      <td>47</td>\n",
       "      <td>7</td>\n",
       "      <td>12</td>\n",
       "      <td>19</td>\n",
       "      <td>-12</td>\n",
       "      <td>103</td>\n",
       "      <td>6.8</td>\n",
       "      <td>50</td>\n",
       "      <td>19:03</td>\n",
       "      <td>F</td>\n",
       "    </tr>\n",
       "    <tr>\n",
       "      <th>119</th>\n",
       "      <td>119</td>\n",
       "      <td>Джериньш Андрис</td>\n",
       "      <td>ДРГ</td>\n",
       "      <td>62</td>\n",
       "      <td>10</td>\n",
       "      <td>12</td>\n",
       "      <td>22</td>\n",
       "      <td>-10</td>\n",
       "      <td>88</td>\n",
       "      <td>11.4</td>\n",
       "      <td>40</td>\n",
       "      <td>14:25</td>\n",
       "      <td>F</td>\n",
       "    </tr>\n",
       "    <tr>\n",
       "      <th>369</th>\n",
       "      <td>369</td>\n",
       "      <td>Редлихс Микелис</td>\n",
       "      <td>ДРГ</td>\n",
       "      <td>57</td>\n",
       "      <td>7</td>\n",
       "      <td>16</td>\n",
       "      <td>23</td>\n",
       "      <td>-3</td>\n",
       "      <td>93</td>\n",
       "      <td>7.5</td>\n",
       "      <td>34</td>\n",
       "      <td>17:52</td>\n",
       "      <td>F</td>\n",
       "    </tr>\n",
       "  </tbody>\n",
       "</table>\n",
       "</div>"
      ],
      "text/plain": [
       "     Unnamed: 0             player team  games  goals  assists  points  \\\n",
       "261         261  Макмиллан Брэндон  ДРГ     47      7       12      19   \n",
       "119         119    Джериньш Андрис  ДРГ     62     10       12      22   \n",
       "369         369    Редлихс Микелис  ДРГ     57      7       16      23   \n",
       "\n",
       "     pl_min  shoots  per_shoots  penalty_time avr_time_on_ice position  \n",
       "261     -12     103         6.8            50           19:03        F  \n",
       "119     -10      88        11.4            40           14:25        F  \n",
       "369      -3      93         7.5            34           17:52        F  "
      ]
     },
     "execution_count": 21,
     "metadata": {},
     "output_type": "execute_result"
    }
   ],
   "source": [
    "the_most_penalty = dynamo.sort_values(by='penalty_time', ascending=False).head(3)\n",
    "the_most_penalty"
   ]
  },
  {
   "cell_type": "markdown",
   "metadata": {},
   "source": [
    "The most penalty time earned Brandon McMillan (Брэндон Макмиллан) **(50 min)**, followed by Andris Dzerins (Андрис Джериньш) **(40 min)** and Mikelis Redlihs (Микелис Редлихс) **(34 min)**."
   ]
  },
  {
   "cell_type": "markdown",
   "metadata": {},
   "source": [
    "## Conclusion"
   ]
  },
  {
   "cell_type": "markdown",
   "metadata": {},
   "source": [
    "What we found out:\n",
    "\n",
    "*    In 2018-2019 KHL season most of the players penalty time did not exceed 30 minutes.\n",
    "    \n",
    "*    There were almost 2 Forward players (64,24%) for every Defence player (35,76%).\n",
    "    \n",
    "*    Almost 2/3 (63,15%) of all players had low penaly time, while almost a third (29,28%) of players had mid penalty time and    only a fraction of all players (7,57%) managed to earned high penalty time.\n",
    "    \n",
    "*    Most goals was scored by players in Forward position (521) while players in Defence position scored almost half of the goals (290).\n",
    "    \n",
    "*    Nikita Gusev from 'SKA' had the most assists in the 2019-2019 season.\n",
    "    \n",
    "*    The most goals in the season had Kirill Kaprizov (Кирилл Капризов) (57), followed by Nigel Dawes (Найджел Доус) (28), Dan Sexton (Дэн Секстон) (25), Dmitri Kagarlitsky (Дмитрий Кагарлицкий) (24) and Linus Videll (Линус Виделль) (24).\n",
    "    \n",
    "*    The highest average time spent on ice per game was 23 minutes and 45 secods, achieved by Darren Dietz (Диц Даррен) from 'Barys Hockey Club'.\n",
    "    \n",
    "*        In 2018-2019 season Linus Videll (Виделль Линус) managed to score 24 goals, becoming the lead goal scorer in Dynamo Riga.\n",
    "    \n",
    "*    One of the youngest player on team - Uvis Balinskis (Балинскис Увис), managed to scrape the most minutes on ice per game (on average 19 minutes and 51 sec.).\n",
    "    \n",
    "*    The most penalty time earned Brandon McMillan (Брэндон Макмиллан) (50 min), followed by Andris Dzerins (Андрис Джериньш) (40 min) and Mikelis Redlihs (Микелис Редлихс) (34 min)."
   ]
  },
  {
   "cell_type": "code",
   "execution_count": null,
   "metadata": {},
   "outputs": [],
   "source": []
  }
 ],
 "metadata": {
  "kernelspec": {
   "display_name": "Python 3",
   "language": "python",
   "name": "python3"
  },
  "language_info": {
   "codemirror_mode": {
    "name": "ipython",
    "version": 3
   },
   "file_extension": ".py",
   "mimetype": "text/x-python",
   "name": "python",
   "nbconvert_exporter": "python",
   "pygments_lexer": "ipython3",
   "version": "3.8.5"
  }
 },
 "nbformat": 4,
 "nbformat_minor": 4
}
